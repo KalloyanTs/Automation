{
 "cells": [
  {
   "cell_type": "markdown",
   "id": "1ece81d0",
   "metadata": {},
   "source": [
    "### Exercise 1\n",
    "1. Determine the type of the following variables: `a = 10`, `b = 10.5`, `c = 'hello'`, `d = [1, 2, 3]`, `e = (4, 5, 6)`, `f = {'key': 'value'}`, `g = {1, 2, 3}`."
   ]
  },
  {
   "cell_type": "code",
   "execution_count": 1,
   "id": "4c0b7b8c",
   "metadata": {},
   "outputs": [
    {
     "name": "stdout",
     "output_type": "stream",
     "text": [
      "<class 'int'>\n",
      "<class 'float'>\n",
      "<class 'str'>\n",
      "<class 'list'>\n",
      "<class 'tuple'>\n",
      "<class 'dict'>\n",
      "<class 'set'>\n"
     ]
    }
   ],
   "source": [
    "a = 10\n",
    "b = 10.5\n",
    "c = 'hello'\n",
    "d = [1, 2, 3]\n",
    "e = (4, 5, 6)\n",
    "f = {'key': 'value'}\n",
    "g = {1, 2, 3}\n",
    "\n",
    "print(type(a))\n",
    "print(type(b))\n",
    "print(type(c))\n",
    "print(type(d))\n",
    "print(type(e))\n",
    "print(type(f))\n",
    "print(type(g))"
   ]
  },
  {
   "cell_type": "markdown",
   "id": "d92c8e50",
   "metadata": {},
   "source": [
    "### Exercise 2\n",
    "2. Format the string `'Hello, {name}!'` with the name `'Alice'`."
   ]
  },
  {
   "cell_type": "code",
   "execution_count": 2,
   "id": "ee5e6411",
   "metadata": {},
   "outputs": [
    {
     "name": "stdout",
     "output_type": "stream",
     "text": [
      "Hello, Alice!\n"
     ]
    }
   ],
   "source": [
    "name = 'Alice'\n",
    "formatted_string = f'Hello, {name}!'\n",
    "print(formatted_string)"
   ]
  },
  {
   "cell_type": "markdown",
   "id": "d9592564",
   "metadata": {},
   "source": [
    "### Exercise 3\n",
    "3. Use the `format` method to format the string `'The number is: {}'` with the number `42`."
   ]
  },
  {
   "cell_type": "code",
   "execution_count": null,
   "id": "6c0d2848",
   "metadata": {},
   "outputs": [],
   "source": [
    "number = 42\n",
    "formatted_string = 'The number is: {}'.format(number)\n",
    "print(formatted_string)"
   ]
  },
  {
   "cell_type": "markdown",
   "id": "eceddacf",
   "metadata": {},
   "source": [
    "### Exercise 4\n",
    "4. Use the `format` method to format the string `'The numbers are: {}, {}, and {}'` with the numbers `1`, `2`, and `3`."
   ]
  },
  {
   "cell_type": "code",
   "execution_count": null,
   "id": "3537c577",
   "metadata": {},
   "outputs": [],
   "source": [
    "formatted_string = 'The numbers are: {}, {}, and {}'.format(1, 2, 3)\n",
    "print(formatted_string)"
   ]
  },
  {
   "cell_type": "markdown",
   "id": "1a351d26",
   "metadata": {},
   "source": [
    "### Exercise 5\n",
    "5. Convert the string `'hello'` to bytes."
   ]
  },
  {
   "cell_type": "code",
   "execution_count": null,
   "id": "73455d52",
   "metadata": {},
   "outputs": [],
   "source": [
    "s = 'hello'\n",
    "b = s.encode('utf-8')\n",
    "print(b)\n",
    "print(b[0])"
   ]
  },
  {
   "cell_type": "markdown",
   "id": "e08db519",
   "metadata": {},
   "source": [
    "### Exercise 6\n",
    "6. Decode the bytes `b'hello'` back to a string."
   ]
  },
  {
   "cell_type": "code",
   "execution_count": null,
   "id": "294e460b",
   "metadata": {},
   "outputs": [],
   "source": [
    "b = b'hello'\n",
    "s = b.decode('utf-8')\n",
    "print(s)\n",
    "print(s[0])"
   ]
  },
  {
   "cell_type": "markdown",
   "id": "111ad3f5",
   "metadata": {},
   "source": [
    "### Exercise 7\n",
    "7. Determine the length of the string `'hello'` in bytes."
   ]
  },
  {
   "cell_type": "code",
   "execution_count": null,
   "id": "cb01954e",
   "metadata": {},
   "outputs": [],
   "source": [
    "s = 'hello'\n",
    "length_in_bytes = len(s.encode('utf-8'))\n",
    "print(length_in_bytes)"
   ]
  },
  {
   "cell_type": "markdown",
   "id": "9f46b792",
   "metadata": {},
   "source": [
    "### Exercise 8\n",
    "8. Evaluate the expression `10 + 20 * 30`."
   ]
  },
  {
   "cell_type": "code",
   "execution_count": null,
   "id": "d645bab4",
   "metadata": {},
   "outputs": [],
   "source": [
    "result = 10 + 20 * 30\n",
    "print(result)"
   ]
  },
  {
   "cell_type": "markdown",
   "id": "49bce05e",
   "metadata": {},
   "source": [
    "### Exercise 9\n",
    "9. Evaluate the expression `(10 + 20) * 30`."
   ]
  },
  {
   "cell_type": "code",
   "execution_count": null,
   "id": "f830713a",
   "metadata": {},
   "outputs": [],
   "source": [
    "result = (10 + 20) * 30\n",
    "print(result)"
   ]
  },
  {
   "cell_type": "markdown",
   "id": "860d7a1a",
   "metadata": {},
   "source": [
    "### Exercise 10\n",
    "10. Determine if the number `10` is greater than `5` and less than `20`."
   ]
  },
  {
   "cell_type": "code",
   "execution_count": null,
   "id": "217908c0",
   "metadata": {},
   "outputs": [],
   "source": [
    "result = 10 > 5 and 10 < 20\n",
    "print(result)"
   ]
  },
  {
   "cell_type": "markdown",
   "id": "66d46d9f",
   "metadata": {},
   "source": [
    "### Exercise 11\n",
    "11. Determine if the string `'hello'` contains the letter `'e'`."
   ]
  },
  {
   "cell_type": "code",
   "execution_count": null,
   "id": "424c9993",
   "metadata": {},
   "outputs": [],
   "source": [
    "s = 'hello'\n",
    "result = 'e' in s\n",
    "print(result)"
   ]
  },
  {
   "cell_type": "markdown",
   "id": "027bf13e",
   "metadata": {},
   "source": [
    "### Exercise 12\n",
    "12. Write a `for` loop to print numbers from 1 to 5."
   ]
  },
  {
   "cell_type": "code",
   "execution_count": null,
   "id": "0af48da4",
   "metadata": {},
   "outputs": [],
   "source": [
    "\n",
    "for i in range(5):\n",
    "    print(i + 1)"
   ]
  },
  {
   "cell_type": "markdown",
   "id": "a2e2dc9b",
   "metadata": {},
   "source": [
    "### Exercise 13\n",
    "13. Write a `while` loop to print numbers from `1` to `5`."
   ]
  },
  {
   "cell_type": "code",
   "execution_count": null,
   "id": "925ede62",
   "metadata": {},
   "outputs": [],
   "source": [
    "i = 1\n",
    "while i <= 5:\n",
    "    print(i)\n",
    "    i += 1"
   ]
  },
  {
   "cell_type": "markdown",
   "id": "4066613c",
   "metadata": {},
   "source": [
    "### Exercise 14\n",
    "14. Use an `if` statement to check if the number `10` is greater than `5`."
   ]
  },
  {
   "cell_type": "code",
   "execution_count": null,
   "id": "72559f9b",
   "metadata": {},
   "outputs": [],
   "source": [
    "if 10 > 5:\n",
    "    print('10 is greater than 5')"
   ]
  },
  {
   "cell_type": "markdown",
   "id": "2a925a74",
   "metadata": {},
   "source": [
    "### Exercise 15\n",
    "15. Use an `if-elif-else` statement to check if a number is positive, negative, or zero."
   ]
  },
  {
   "cell_type": "code",
   "execution_count": null,
   "id": "33180766",
   "metadata": {},
   "outputs": [],
   "source": [
    "number = 0\n",
    "if number > 0:\n",
    "    print('Positive')\n",
    "elif number < 0:\n",
    "    print('Negative')\n",
    "else:\n",
    "    print('Zero')"
   ]
  },
  {
   "cell_type": "markdown",
   "id": "55ceac44",
   "metadata": {},
   "source": [
    "### Exercise 16\n",
    "16. Use a `for` loop and the `range` function to print numbers from `5` to `1`."
   ]
  },
  {
   "cell_type": "code",
   "execution_count": null,
   "id": "bfc31a93",
   "metadata": {},
   "outputs": [],
   "source": [
    "for i in range(5, 0, -1):\n",
    "    print(i)"
   ]
  }
 ],
 "metadata": {
  "kernelspec": {
   "display_name": "Python 3 (ipykernel)",
   "language": "python",
   "name": "python3"
  },
  "language_info": {
   "codemirror_mode": {
    "name": "ipython",
    "version": 3
   },
   "file_extension": ".py",
   "mimetype": "text/x-python",
   "name": "python",
   "nbconvert_exporter": "python",
   "pygments_lexer": "ipython3",
   "version": "3.10.12"
  }
 },
 "nbformat": 4,
 "nbformat_minor": 5
}
